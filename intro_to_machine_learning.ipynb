{
 "cells": [
  {
   "cell_type": "code",
   "execution_count": 1,
   "id": "d5f21d7e",
   "metadata": {},
   "outputs": [],
   "source": [
    "# long hair, short leg, barks\n",
    "pigs = [\n",
    "    [0, 1, 0],\n",
    "    [0, 1, 1],\n",
    "    [1, 1, 0]\n",
    "]\n",
    "\n",
    "dogs = [\n",
    "    [0, 1, 1],\n",
    "    [1, 0, 1],\n",
    "    [1, 1, 1]\n",
    "]\n",
    "\n",
    "train_x = pigs + dogs\n",
    "# 1 to pig and 0 to dog\n",
    "train_y = [1, 1, 1, 0, 0, 0]"
   ]
  },
  {
   "cell_type": "code",
   "execution_count": 2,
   "id": "be333493",
   "metadata": {},
   "outputs": [],
   "source": [
    "from sklearn.svm import LinearSVC"
   ]
  },
  {
   "cell_type": "code",
   "execution_count": 3,
   "id": "a6e2dd38",
   "metadata": {},
   "outputs": [
    {
     "data": {
      "text/plain": [
       "LinearSVC()"
      ]
     },
     "execution_count": 3,
     "metadata": {},
     "output_type": "execute_result"
    }
   ],
   "source": [
    "# Now we train the model with the data\n",
    "model = LinearSVC()\n",
    "model.fit(train_x, train_y)"
   ]
  },
  {
   "cell_type": "code",
   "execution_count": 4,
   "id": "9426b794",
   "metadata": {},
   "outputs": [
    {
     "data": {
      "text/plain": [
       "array([0])"
      ]
     },
     "metadata": {},
     "output_type": "display_data"
    }
   ],
   "source": [
    "# And now the model can predict a dog\n",
    "misterious_animal = [1, 1, 1]\n",
    "prediction = model.predict([misterious_animal])\n",
    "display(prediction)"
   ]
  },
  {
   "cell_type": "code",
   "execution_count": 5,
   "id": "09636387",
   "metadata": {},
   "outputs": [],
   "source": [
    "# let's see it working on 3 other animals, and check accuracy\n",
    "test_x = [\n",
    "    [1, 1, 1],\n",
    "    [1, 1, 0],\n",
    "    [0, 1, 1]\n",
    "]\n",
    "test_y = [0, 1, 1]"
   ]
  },
  {
   "cell_type": "code",
   "execution_count": 6,
   "id": "b7868ef1",
   "metadata": {},
   "outputs": [
    {
     "data": {
      "text/plain": [
       "0.6666666666666666"
      ]
     },
     "execution_count": 6,
     "metadata": {},
     "output_type": "execute_result"
    }
   ],
   "source": [
    "from sklearn.metrics import accuracy_score\n",
    "predictions = model.predict(test_x)\n",
    "accuracy_score(test_y, predictions)"
   ]
  },
  {
   "cell_type": "code",
   "execution_count": 7,
   "id": "7baf800e",
   "metadata": {},
   "outputs": [],
   "source": [
    "# If we need to know that this number is high or low, we can use Dummy classifier\n",
    "# https://scikit-learn.org/stable/modules/generated/sklearn.dummy.DummyClassifier.html"
   ]
  },
  {
   "cell_type": "code",
   "execution_count": 12,
   "id": "45c1111c",
   "metadata": {},
   "outputs": [
    {
     "data": {
      "text/plain": [
       "0.5"
      ]
     },
     "execution_count": 12,
     "metadata": {},
     "output_type": "execute_result"
    }
   ],
   "source": [
    "# sklearn provides smart split for train and tests:\n",
    "from sklearn.model_selection import train_test_split\n",
    "new_model = LinearSVC()\n",
    "x = [\n",
    "    [1, 1, 1],\n",
    "    [1, 1, 0],\n",
    "    [0, 1, 1],\n",
    "    [1, 0, 0],\n",
    "    [0, 1, 1],\n",
    "    [1, 0, 1]\n",
    "]\n",
    "y = [0, 1, 1, 1, 0, 0]\n",
    "train_x, test_x, train_y, test_y = train_test_split(x, y)\n",
    "new_model.fit(train_x, train_y)\n",
    "\n",
    "predictions = new_model.predict(test_x)\n",
    "accuracy_score(test_y, predictions)"
   ]
  }
 ],
 "metadata": {
  "kernelspec": {
   "display_name": "Python 3 (ipykernel)",
   "language": "python",
   "name": "python3"
  },
  "language_info": {
   "codemirror_mode": {
    "name": "ipython",
    "version": 3
   },
   "file_extension": ".py",
   "mimetype": "text/x-python",
   "name": "python",
   "nbconvert_exporter": "python",
   "pygments_lexer": "ipython3",
   "version": "3.8.6"
  }
 },
 "nbformat": 4,
 "nbformat_minor": 5
}
